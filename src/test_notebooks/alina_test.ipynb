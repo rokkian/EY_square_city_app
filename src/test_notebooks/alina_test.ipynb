{
 "cells": [
  {
   "attachments": {},
   "cell_type": "markdown",
   "metadata": {},
   "source": [
    "# Geo map test"
   ]
  },
  {
   "cell_type": "code",
   "execution_count": 1,
   "metadata": {},
   "outputs": [
    {
     "data": {
      "text/plain": [
       "3"
      ]
     },
     "execution_count": 1,
     "metadata": {},
     "output_type": "execute_result"
    }
   ],
   "source": [
    "3"
   ]
  },
  {
   "cell_type": "code",
   "execution_count": 3,
   "metadata": {},
   "outputs": [
    {
     "name": "stdout",
     "output_type": "stream",
     "text": [
      "Collecting basemap\n",
      "  Using cached basemap-1.3.7.zip (156 kB)\n",
      "  Installing build dependencies ... \u001b[?25ldone\n",
      "\u001b[?25h  Getting requirements to build wheel ... \u001b[?25ldone\n",
      "\u001b[?25h  Preparing metadata (pyproject.toml) ... \u001b[?25ldone\n",
      "\u001b[?25hCollecting basemap-data<1.4,>=1.3.2 (from basemap)\n",
      "  Using cached basemap_data-1.3.2-py2.py3-none-any.whl (30.5 MB)\n",
      "Collecting pyshp<2.4,>=1.2 (from basemap)\n",
      "  Using cached pyshp-2.3.1-py2.py3-none-any.whl (46 kB)\n",
      "Collecting matplotlib<3.8,>=1.5 (from basemap)\n",
      "  Using cached matplotlib-3.7.1-cp310-cp310-macosx_10_12_x86_64.whl (7.4 MB)\n",
      "Collecting pyproj<3.6.0,>=1.9.3 (from basemap)\n",
      "  Using cached pyproj-3.5.0-cp310-cp310-macosx_10_9_x86_64.whl (8.5 MB)\n",
      "Requirement already satisfied: numpy<1.25,>=1.22 in /Library/Frameworks/Python.framework/Versions/3.10/lib/python3.10/site-packages (from basemap) (1.24.3)\n",
      "Collecting contourpy>=1.0.1 (from matplotlib<3.8,>=1.5->basemap)\n",
      "  Using cached contourpy-1.0.7-cp310-cp310-macosx_10_9_x86_64.whl (244 kB)\n",
      "Collecting cycler>=0.10 (from matplotlib<3.8,>=1.5->basemap)\n",
      "  Using cached cycler-0.11.0-py3-none-any.whl (6.4 kB)\n",
      "Collecting fonttools>=4.22.0 (from matplotlib<3.8,>=1.5->basemap)\n",
      "  Using cached fonttools-4.39.4-py3-none-any.whl (1.0 MB)\n",
      "Collecting kiwisolver>=1.0.1 (from matplotlib<3.8,>=1.5->basemap)\n",
      "  Using cached kiwisolver-1.4.4-cp310-cp310-macosx_10_9_x86_64.whl (65 kB)\n",
      "Requirement already satisfied: packaging>=20.0 in /Library/Frameworks/Python.framework/Versions/3.10/lib/python3.10/site-packages (from matplotlib<3.8,>=1.5->basemap) (23.1)\n",
      "Collecting pillow>=6.2.0 (from matplotlib<3.8,>=1.5->basemap)\n",
      "  Using cached Pillow-9.5.0-cp310-cp310-macosx_10_10_x86_64.whl (3.4 MB)\n",
      "Collecting pyparsing>=2.3.1 (from matplotlib<3.8,>=1.5->basemap)\n",
      "  Using cached pyparsing-3.0.9-py3-none-any.whl (98 kB)\n",
      "Requirement already satisfied: python-dateutil>=2.7 in /Users/alinaatanasiu/Library/Python/3.10/lib/python/site-packages (from matplotlib<3.8,>=1.5->basemap) (2.8.2)\n",
      "Requirement already satisfied: certifi in /Library/Frameworks/Python.framework/Versions/3.10/lib/python3.10/site-packages (from pyproj<3.6.0,>=1.9.3->basemap) (2023.5.7)\n",
      "Requirement already satisfied: six>=1.5 in /Library/Frameworks/Python.framework/Versions/3.10/lib/python3.10/site-packages (from python-dateutil>=2.7->matplotlib<3.8,>=1.5->basemap) (1.16.0)\n",
      "Building wheels for collected packages: basemap\n",
      "  Building wheel for basemap (pyproject.toml) ... \u001b[?25lerror\n",
      "  \u001b[1;31merror\u001b[0m: \u001b[1msubprocess-exited-with-error\u001b[0m\n",
      "  \n",
      "  \u001b[31m×\u001b[0m \u001b[32mBuilding wheel for basemap \u001b[0m\u001b[1;32m(\u001b[0m\u001b[32mpyproject.toml\u001b[0m\u001b[1;32m)\u001b[0m did not run successfully.\n",
      "  \u001b[31m│\u001b[0m exit code: \u001b[1;36m1\u001b[0m\n",
      "  \u001b[31m╰─>\u001b[0m \u001b[31m[44 lines of output]\u001b[0m\n",
      "  \u001b[31m   \u001b[0m <string>:58: RuntimeWarning: Cannot find GEOS library and/or headers in standard locations ('/Users/alinaatanasiu/local', '/Users/alinaatanasiu', '/usr/local', '/usr', '/opt/local', '/opt', '/sw'). Please install the corresponding packages using your software management system or set the environment variable GEOS_DIR to point to the location where GEOS is installed (for example, if 'geos_c.h' is in '/usr/local/include' and 'libgeos_c' is in '/usr/local/lib', then you need to set GEOS_DIR to '/usr/local'\n",
      "  \u001b[31m   \u001b[0m /private/var/folders/34/23dk9c997fd5036v2l071kxc0000gn/T/pip-build-env-zmskdu95/overlay/lib/python3.10/site-packages/setuptools/dist.py:955: SetuptoolsDeprecationWarning: The namespace_packages parameter is deprecated.\n",
      "  \u001b[31m   \u001b[0m !!\n",
      "  \u001b[31m   \u001b[0m \n",
      "  \u001b[31m   \u001b[0m         ********************************************************************************\n",
      "  \u001b[31m   \u001b[0m         Please replace its usage with implicit namespaces (PEP 420).\n",
      "  \u001b[31m   \u001b[0m \n",
      "  \u001b[31m   \u001b[0m         See https://setuptools.pypa.io/en/latest/references/keywords.html#keyword-namespace-packages for details.\n",
      "  \u001b[31m   \u001b[0m         ********************************************************************************\n",
      "  \u001b[31m   \u001b[0m \n",
      "  \u001b[31m   \u001b[0m !!\n",
      "  \u001b[31m   \u001b[0m   ep.load()(self, ep.name, value)\n",
      "  \u001b[31m   \u001b[0m running bdist_wheel\n",
      "  \u001b[31m   \u001b[0m running build\n",
      "  \u001b[31m   \u001b[0m running build_py\n",
      "  \u001b[31m   \u001b[0m creating build\n",
      "  \u001b[31m   \u001b[0m creating build/lib.macosx-10.9-universal2-cpython-310\n",
      "  \u001b[31m   \u001b[0m creating build/lib.macosx-10.9-universal2-cpython-310/mpl_toolkits\n",
      "  \u001b[31m   \u001b[0m copying src/mpl_toolkits/__init__.py -> build/lib.macosx-10.9-universal2-cpython-310/mpl_toolkits\n",
      "  \u001b[31m   \u001b[0m creating build/lib.macosx-10.9-universal2-cpython-310/mpl_toolkits/basemap\n",
      "  \u001b[31m   \u001b[0m copying src/mpl_toolkits/basemap/cm.py -> build/lib.macosx-10.9-universal2-cpython-310/mpl_toolkits/basemap\n",
      "  \u001b[31m   \u001b[0m copying src/mpl_toolkits/basemap/__init__.py -> build/lib.macosx-10.9-universal2-cpython-310/mpl_toolkits/basemap\n",
      "  \u001b[31m   \u001b[0m copying src/mpl_toolkits/basemap/test.py -> build/lib.macosx-10.9-universal2-cpython-310/mpl_toolkits/basemap\n",
      "  \u001b[31m   \u001b[0m copying src/mpl_toolkits/basemap/diagnostic.py -> build/lib.macosx-10.9-universal2-cpython-310/mpl_toolkits/basemap\n",
      "  \u001b[31m   \u001b[0m copying src/mpl_toolkits/basemap/proj.py -> build/lib.macosx-10.9-universal2-cpython-310/mpl_toolkits/basemap\n",
      "  \u001b[31m   \u001b[0m copying src/mpl_toolkits/basemap/solar.py -> build/lib.macosx-10.9-universal2-cpython-310/mpl_toolkits/basemap\n",
      "  \u001b[31m   \u001b[0m running build_ext\n",
      "  \u001b[31m   \u001b[0m cythoning src/_geoslib.pyx to src/_geoslib.c\n",
      "  \u001b[31m   \u001b[0m building '_geoslib' extension\n",
      "  \u001b[31m   \u001b[0m creating build/temp.macosx-10.9-universal2-cpython-310\n",
      "  \u001b[31m   \u001b[0m creating build/temp.macosx-10.9-universal2-cpython-310/src\n",
      "  \u001b[31m   \u001b[0m clang -Wno-unused-result -Wsign-compare -Wunreachable-code -fno-common -dynamic -DNDEBUG -g -fwrapv -O3 -Wall -arch arm64 -arch x86_64 -g -I/private/var/folders/34/23dk9c997fd5036v2l071kxc0000gn/T/pip-build-env-zmskdu95/overlay/lib/python3.10/site-packages/numpy/core/include -I/Library/Frameworks/Python.framework/Versions/3.10/include/python3.10 -c src/_geoslib.c -o build/temp.macosx-10.9-universal2-cpython-310/src/_geoslib.o\n",
      "  \u001b[31m   \u001b[0m In file included from src/_geoslib.c:744:\n",
      "  \u001b[31m   \u001b[0m In file included from /private/var/folders/34/23dk9c997fd5036v2l071kxc0000gn/T/pip-build-env-zmskdu95/overlay/lib/python3.10/site-packages/numpy/core/include/numpy/arrayobject.h:4:\n",
      "  \u001b[31m   \u001b[0m In file included from /private/var/folders/34/23dk9c997fd5036v2l071kxc0000gn/T/pip-build-env-zmskdu95/overlay/lib/python3.10/site-packages/numpy/core/include/numpy/ndarrayobject.h:12:\n",
      "  \u001b[31m   \u001b[0m In file included from /private/var/folders/34/23dk9c997fd5036v2l071kxc0000gn/T/pip-build-env-zmskdu95/overlay/lib/python3.10/site-packages/numpy/core/include/numpy/ndarraytypes.h:1969:\n",
      "  \u001b[31m   \u001b[0m /private/var/folders/34/23dk9c997fd5036v2l071kxc0000gn/T/pip-build-env-zmskdu95/overlay/lib/python3.10/site-packages/numpy/core/include/numpy/npy_1_7_deprecated_api.h:17:2: warning: \"Using deprecated NumPy API, disable it with \"          \"#define NPY_NO_DEPRECATED_API NPY_1_7_API_VERSION\" [-W#warnings]\n",
      "  \u001b[31m   \u001b[0m #warning \"Using deprecated NumPy API, disable it with \" \\\n",
      "  \u001b[31m   \u001b[0m  ^\n",
      "  \u001b[31m   \u001b[0m src/_geoslib.c:745:10: fatal error: 'geos_c.h' file not found\n",
      "  \u001b[31m   \u001b[0m #include \"geos_c.h\"\n",
      "  \u001b[31m   \u001b[0m          ^~~~~~~~~~\n",
      "  \u001b[31m   \u001b[0m 1 warning and 1 error generated.\n",
      "  \u001b[31m   \u001b[0m error: command '/usr/bin/clang' failed with exit code 1\n",
      "  \u001b[31m   \u001b[0m \u001b[31m[end of output]\u001b[0m\n",
      "  \n",
      "  \u001b[1;35mnote\u001b[0m: This error originates from a subprocess, and is likely not a problem with pip.\n",
      "\u001b[?25h\u001b[31m  ERROR: Failed building wheel for basemap\u001b[0m\u001b[31m\n",
      "\u001b[0mFailed to build basemap\n",
      "\u001b[31mERROR: Could not build wheels for basemap, which is required to install pyproject.toml-based projects\u001b[0m\u001b[31m\n",
      "\u001b[0m"
     ]
    }
   ],
   "source": [
    "!pip install basemap\n",
    "# pip install basemap-data\n",
    "#!pip install folium"
   ]
  },
  {
   "cell_type": "code",
   "execution_count": 6,
   "metadata": {},
   "outputs": [],
   "source": [
    "# from mpl_toolkits.basemap import Basemap\n",
    "import matplotlib.pyplot as plt\n",
    "import numpy as np\n",
    "import folium"
   ]
  },
  {
   "cell_type": "code",
   "execution_count": 8,
   "metadata": {},
   "outputs": [],
   "source": [
    "lat = np.array([41.40338, ])  # array of latitudes\n",
    "lon = np.array([2.17403])  # array of longitudes\n",
    "values = np.array([2])  # array of values to plot\n"
   ]
  },
  {
   "cell_type": "code",
   "execution_count": 10,
   "metadata": {},
   "outputs": [],
   "source": [
    "m = Basemap(projection='cyl', llcrnrlat=40, urcrnrlat=42, llcrnrlon=2, urcrnrlon=2.5, resolution='l')"
   ]
  },
  {
   "cell_type": "code",
   "execution_count": 11,
   "metadata": {},
   "outputs": [
    {
     "data": {
      "text/plain": [
       "[<matplotlib.patches.Polygon at 0x7f52098e3d90>]"
      ]
     },
     "execution_count": 11,
     "metadata": {},
     "output_type": "execute_result"
    },
    {
     "data": {
      "image/png": "[encoded data removed]",
      "text/plain": [
       "<Figure size 640x480 with 1 Axes>"
      ]
     },
     "metadata": {},
     "output_type": "display_data"
    }
   ],
   "source": [
    "m.drawcoastlines(linewidth=0.5)\n",
    "m.fillcontinents(color='gray',lake_color='gray')"
   ]
  },
  {
   "cell_type": "code",
   "execution_count": 12,
   "metadata": {},
   "outputs": [
    {
     "data": {
      "text/plain": [
       "<matplotlib.collections.PathCollection at 0x7f5209665c60>"
      ]
     },
     "execution_count": 12,
     "metadata": {},
     "output_type": "execute_result"
    },
    {
     "data": {
      "image/png": "[encoded data removed]",
      "text/plain": [
       "<Figure size 640x480 with 1 Axes>"
      ]
     },
     "metadata": {},
     "output_type": "display_data"
    }
   ],
   "source": [
    "m.scatter(lon, lat, c=values, cmap='Reds', latlon=True, alpha=0.5)"
   ]
  },
  {
   "cell_type": "code",
   "execution_count": 13,
   "metadata": {},
   "outputs": [],
   "source": [
    "plt.show()"
   ]
  },
  {
   "cell_type": "code",
   "execution_count": 2,
   "metadata": {},
   "outputs": [],
   "source": [
    "import folium\n",
    "\n",
    "\n",
    "m = folium.Map(location=[44.439663, 26.096306])"
   ]
  },
  {
   "cell_type": "code",
   "execution_count": 3,
   "metadata": {},
   "outputs": [
    {
     "data": {
      "text/html": [
       "<div style=\"width:100%;\"><div style=\"position:relative;width:100%;height:0;padding-bottom:60%;\"><span style=\"color:#565656\">Make this Notebook Trusted to load map: File -> Trust Notebook</span><iframe srcdoc=\"&lt;!DOCTYPE html&gt;\n",
       "&lt;html&gt;\n",
       "&lt;head&gt;\n",
       "    \n",
       "    &lt;meta http-equiv=&quot;content-type&quot; content=&quot;text/html; charset=UTF-8&quot; /&gt;\n",
       "    \n",
       "        &lt;script&gt;\n",
       "            L_NO_TOUCH = false;\n",
       "            L_DISABLE_3D = false;\n",
       "        &lt;/script&gt;\n",
       "    \n",
       "    &lt;style&gt;html, body {width: 100%;height: 100%;margin: 0;padding: 0;}&lt;/style&gt;\n",
       "    &lt;style&gt;#map {position:absolute;top:0;bottom:0;right:0;left:0;}&lt;/style&gt;\n",
       "    &lt;script src=&quot;https://cdn.jsdelivr.net/npm/leaflet@1.9.3/dist/leaflet.js&quot;&gt;&lt;/script&gt;\n",
       "    &lt;script src=&quot;https://code.jquery.com/jquery-1.12.4.min.js&quot;&gt;&lt;/script&gt;\n",
       "    &lt;script src=&quot;https://cdn.jsdelivr.net/npm/bootstrap@5.2.2/dist/js/bootstrap.bundle.min.js&quot;&gt;&lt;/script&gt;\n",
       "    &lt;script src=&quot;https://cdnjs.cloudflare.com/ajax/libs/Leaflet.awesome-markers/2.0.2/leaflet.awesome-markers.js&quot;&gt;&lt;/script&gt;\n",
       "    &lt;link rel=&quot;stylesheet&quot; href=&quot;https://cdn.jsdelivr.net/npm/leaflet@1.9.3/dist/leaflet.css&quot;/&gt;\n",
       "    &lt;link rel=&quot;stylesheet&quot; href=&quot;https://cdn.jsdelivr.net/npm/bootstrap@5.2.2/dist/css/bootstrap.min.css&quot;/&gt;\n",
       "    &lt;link rel=&quot;stylesheet&quot; href=&quot;https://netdna.bootstrapcdn.com/bootstrap/3.0.0/css/bootstrap.min.css&quot;/&gt;\n",
       "    &lt;link rel=&quot;stylesheet&quot; href=&quot;https://cdn.jsdelivr.net/npm/@fortawesome/fontawesome-free@6.2.0/css/all.min.css&quot;/&gt;\n",
       "    &lt;link rel=&quot;stylesheet&quot; href=&quot;https://cdnjs.cloudflare.com/ajax/libs/Leaflet.awesome-markers/2.0.2/leaflet.awesome-markers.css&quot;/&gt;\n",
       "    &lt;link rel=&quot;stylesheet&quot; href=&quot;https://cdn.jsdelivr.net/gh/python-visualization/folium/folium/templates/leaflet.awesome.rotate.min.css&quot;/&gt;\n",
       "    \n",
       "            &lt;meta name=&quot;viewport&quot; content=&quot;width=device-width,\n",
       "                initial-scale=1.0, maximum-scale=1.0, user-scalable=no&quot; /&gt;\n",
       "            &lt;style&gt;\n",
       "                #map_61df4b11f86cd041f0b99eaa0a765b6e {\n",
       "                    position: relative;\n",
       "                    width: 100.0%;\n",
       "                    height: 100.0%;\n",
       "                    left: 0.0%;\n",
       "                    top: 0.0%;\n",
       "                }\n",
       "                .leaflet-container { font-size: 1rem; }\n",
       "            &lt;/style&gt;\n",
       "        \n",
       "&lt;/head&gt;\n",
       "&lt;body&gt;\n",
       "    \n",
       "    \n",
       "            &lt;div class=&quot;folium-map&quot; id=&quot;map_61df4b11f86cd041f0b99eaa0a765b6e&quot; &gt;&lt;/div&gt;\n",
       "        \n",
       "&lt;/body&gt;\n",
       "&lt;script&gt;\n",
       "    \n",
       "    \n",
       "            var map_61df4b11f86cd041f0b99eaa0a765b6e = L.map(\n",
       "                &quot;map_61df4b11f86cd041f0b99eaa0a765b6e&quot;,\n",
       "                {\n",
       "                    center: [44.439663, 26.096306],\n",
       "                    crs: L.CRS.EPSG3857,\n",
       "                    zoom: 10,\n",
       "                    zoomControl: true,\n",
       "                    preferCanvas: false,\n",
       "                }\n",
       "            );\n",
       "\n",
       "            \n",
       "\n",
       "        \n",
       "    \n",
       "            var tile_layer_273f10e51f09c8d4f6a2768290c84bdd = L.tileLayer(\n",
       "                &quot;https://{s}.tile.openstreetmap.org/{z}/{x}/{y}.png&quot;,\n",
       "                {&quot;attribution&quot;: &quot;Data by \\u0026copy; \\u003ca target=\\&quot;_blank\\&quot; href=\\&quot;http://openstreetmap.org\\&quot;\\u003eOpenStreetMap\\u003c/a\\u003e, under \\u003ca target=\\&quot;_blank\\&quot; href=\\&quot;http://www.openstreetmap.org/copyright\\&quot;\\u003eODbL\\u003c/a\\u003e.&quot;, &quot;detectRetina&quot;: false, &quot;maxNativeZoom&quot;: 18, &quot;maxZoom&quot;: 18, &quot;minZoom&quot;: 0, &quot;noWrap&quot;: false, &quot;opacity&quot;: 1, &quot;subdomains&quot;: &quot;abc&quot;, &quot;tms&quot;: false}\n",
       "            ).addTo(map_61df4b11f86cd041f0b99eaa0a765b6e);\n",
       "        \n",
       "&lt;/script&gt;\n",
       "&lt;/html&gt;\" style=\"position:absolute;width:100%;height:100%;left:0;top:0;border:none !important;\" allowfullscreen webkitallowfullscreen mozallowfullscreen></iframe></div></div>"
      ],
      "text/plain": [
       "<folium.folium.Map at 0x108227e80>"
      ]
     },
     "execution_count": 3,
     "metadata": {},
     "output_type": "execute_result"
    }
   ],
   "source": [
    "m"
   ]
  },
  {
   "cell_type": "code",
   "execution_count": 13,
   "metadata": {},
   "outputs": [
    {
     "name": "stdout",
     "output_type": "stream",
     "text": [
      "Map saved as map.html\n"
     ]
    }
   ],
   "source": [
    "from geopy.geocoders import Nominatim\n",
    "\n",
    "def get_nearby_locations(user_location):\n",
    "    geolocator = Nominatim(user_agent=\"square-application\")\n",
    "    location = geolocator.geocode(user_location)\n",
    "    \n",
    "    # Get the latitude and longitude of the user's location\n",
    "    # 44.439663, 26.096306\n",
    "    user_lat = location.latitude\n",
    "    user_lon = location.longitude\n",
    "    \n",
    "    # Create a map centered around the user's location\n",
    "    map_center = [user_lat, user_lon]\n",
    "    map_object = folium.Map(location=map_center, zoom_start=15)\n",
    "    \n",
    "    # Add a marker for the user's location on the map\n",
    "    folium.Marker(location=map_center, popup=\"User Location\").add_to(map_object)\n",
    "    \n",
    "    # Search for nearby locations using the user's coordinates\n",
    "    nearby_locations = geolocator.reverse([user_lat, user_lon], exactly_one=False)\n",
    "    \n",
    "    # Add markers for the nearby locations on the map\n",
    "    for nearby_location in nearby_locations:\n",
    "        location_name = nearby_location.address\n",
    "        location_lat = nearby_location.latitude\n",
    "        location_lon = nearby_location.longitude\n",
    "        folium.Marker(location=[location_lat, location_lon], popup=location_name).add_to(map_object)\n",
    "    \n",
    "    # Save the map as an HTML file\n",
    "    map_object.save(\"map.html\")\n",
    "    print(\"Map saved as map.html\")\n",
    "\n",
    "# Provide the user's location as input\n",
    "user_location = \"Starbucks Unirii\"\n",
    "\n",
    "# Call the function to get nearby locations and generate the map\n",
    "get_nearby_locations(user_location)"
   ]
  },
  {
   "cell_type": "code",
   "execution_count": 1,
   "metadata": {},
   "outputs": [
    {
     "data": {
      "text/plain": [
       "'2.2.0'"
      ]
     },
     "execution_count": 1,
     "metadata": {},
     "output_type": "execute_result"
    }
   ],
   "source": [
    "import geopy\n",
    "geopy.__version__"
   ]
  },
  {
   "cell_type": "code",
   "execution_count": null,
   "metadata": {},
   "outputs": [],
   "source": []
  }
 ],
 "metadata": {
  "kernelspec": {
   "display_name": "ey",
   "language": "python",
   "name": "python3"
  },
  "language_info": {
   "codemirror_mode": {
    "name": "ipython",
    "version": 3
   },
   "file_extension": ".py",
   "mimetype": "text/x-python",
   "name": "python",
   "nbconvert_exporter": "python",
   "pygments_lexer": "ipython3",
   "version": "3.10.8"
  },
  "orig_nbformat": 4
 },
 "nbformat": 4,
 "nbformat_minor": 2
}
